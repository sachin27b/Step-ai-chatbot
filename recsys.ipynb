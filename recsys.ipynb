{
 "cells": [
  {
   "cell_type": "code",
   "execution_count": 1,
   "metadata": {},
   "outputs": [],
   "source": [
    "import pandas as pd"
   ]
  },
  {
   "cell_type": "code",
   "execution_count": 2,
   "metadata": {},
   "outputs": [],
   "source": [
    "shopping_queries_dataset_examples = pd.read_parquet(\"Data/shopping_queries_dataset_examples.parquet\")"
   ]
  },
  {
   "cell_type": "code",
   "execution_count": 3,
   "metadata": {},
   "outputs": [],
   "source": [
    "shopping_queries_dataset_products = pd.read_parquet(\"Data/shopping_queries_dataset_products.parquet\")"
   ]
  },
  {
   "cell_type": "code",
   "execution_count": 6,
   "metadata": {},
   "outputs": [],
   "source": [
    "df_examples_products = pd.merge(\n",
    "    shopping_queries_dataset_examples,\n",
    "    shopping_queries_dataset_products,\n",
    "    how='left',\n",
    "    left_on=['product_locale','product_id'],\n",
    "    right_on=['product_locale', 'product_id']\n",
    ")"
   ]
  },
  {
   "cell_type": "code",
   "execution_count": 7,
   "metadata": {},
   "outputs": [],
   "source": [
    "df = df_examples_products[df_examples_products[\"large_version\"] == 1]\n",
    "df = df[['product_title', 'product_description', 'product_bullet_point','product_brand','product_color','product_id','query','split']]\n",
    "df = df.drop_duplicates(subset='product_id', keep='first')\n",
    "\n",
    "# df_train = df[df[\"split\"] == \"train\"]\n",
    "# df_test = df[df[\"split\"] == \"test\"]"
   ]
  },
  {
   "cell_type": "code",
   "execution_count": 14,
   "metadata": {},
   "outputs": [
    {
     "data": {
      "text/plain": [
       "product_title                 0\n",
       "product_description     1348674\n",
       "product_bullet_point     364761\n",
       "product_brand            166854\n",
       "product_color            910895\n",
       "product_id                    0\n",
       "query                         0\n",
       "split                         0\n",
       "dtype: int64"
      ]
     },
     "execution_count": 14,
     "metadata": {},
     "output_type": "execute_result"
    }
   ],
   "source": [
    "df.isnull().sum()"
   ]
  },
  {
   "cell_type": "code",
   "execution_count": 15,
   "metadata": {},
   "outputs": [],
   "source": [
    "# Convert all string columns to lowercase, except 'split' and 'product_id'\n",
    "df.loc[:, df.columns.difference(['split', 'product_id'])] = df.loc[:, df.columns.difference(['split', 'product_id'])].applymap(lambda x: x.lower() if isinstance(x, str) else x)\n",
    "\n",
    "# Replace null values with an empty string, except in 'split' and 'product_id'\n",
    "df.loc[:, df.columns.difference(['split', 'product_id'])] = df.loc[:, df.columns.difference(['split', 'product_id'])].fillna('')\n"
   ]
  },
  {
   "cell_type": "code",
   "execution_count": 16,
   "metadata": {},
   "outputs": [
    {
     "data": {
      "text/html": [
       "<div>\n",
       "<style scoped>\n",
       "    .dataframe tbody tr th:only-of-type {\n",
       "        vertical-align: middle;\n",
       "    }\n",
       "\n",
       "    .dataframe tbody tr th {\n",
       "        vertical-align: top;\n",
       "    }\n",
       "\n",
       "    .dataframe thead th {\n",
       "        text-align: right;\n",
       "    }\n",
       "</style>\n",
       "<table border=\"1\" class=\"dataframe\">\n",
       "  <thead>\n",
       "    <tr style=\"text-align: right;\">\n",
       "      <th></th>\n",
       "      <th>product_title</th>\n",
       "      <th>product_description</th>\n",
       "      <th>product_bullet_point</th>\n",
       "      <th>product_brand</th>\n",
       "      <th>product_color</th>\n",
       "      <th>product_id</th>\n",
       "      <th>query</th>\n",
       "      <th>split</th>\n",
       "    </tr>\n",
       "  </thead>\n",
       "  <tbody>\n",
       "    <tr>\n",
       "      <th>0</th>\n",
       "      <td>panasonic fv-20vq3 whisperceiling 190 cfm ceil...</td>\n",
       "      <td></td>\n",
       "      <td>whisperceiling fans feature a totally enclosed...</td>\n",
       "      <td>panasonic</td>\n",
       "      <td>white</td>\n",
       "      <td>B000MOO21W</td>\n",
       "      <td>revent 80 cfm</td>\n",
       "      <td>train</td>\n",
       "    </tr>\n",
       "    <tr>\n",
       "      <th>1</th>\n",
       "      <td>homewerks 7141-80 bathroom fan integrated led ...</td>\n",
       "      <td></td>\n",
       "      <td>outstanding performance: this homewerk's bath ...</td>\n",
       "      <td>homewerks</td>\n",
       "      <td>80 cfm</td>\n",
       "      <td>B07X3Y6B1V</td>\n",
       "      <td>revent 80 cfm</td>\n",
       "      <td>train</td>\n",
       "    </tr>\n",
       "    <tr>\n",
       "      <th>2</th>\n",
       "      <td>homewerks 7140-80 bathroom fan ceiling mount e...</td>\n",
       "      <td></td>\n",
       "      <td>outstanding performance: this homewerk's bath ...</td>\n",
       "      <td>homewerks</td>\n",
       "      <td>white</td>\n",
       "      <td>B07WDM7MQQ</td>\n",
       "      <td>revent 80 cfm</td>\n",
       "      <td>train</td>\n",
       "    </tr>\n",
       "    <tr>\n",
       "      <th>3</th>\n",
       "      <td>delta electronics rad80l breezradiance 80 cfm ...</td>\n",
       "      <td>this pre-owned or refurbished product has been...</td>\n",
       "      <td>quiet operation at 1.5 sones\\nbuilt-in thermos...</td>\n",
       "      <td>delta electronics (americas) ltd.</td>\n",
       "      <td>white</td>\n",
       "      <td>B07RH6Z8KW</td>\n",
       "      <td>revent 80 cfm</td>\n",
       "      <td>train</td>\n",
       "    </tr>\n",
       "    <tr>\n",
       "      <th>4</th>\n",
       "      <td>panasonic fv-08vre2 ventilation fan with reces...</td>\n",
       "      <td></td>\n",
       "      <td>the design solution for fan/light combinations...</td>\n",
       "      <td>panasonic</td>\n",
       "      <td>white</td>\n",
       "      <td>B07QJ7WYFQ</td>\n",
       "      <td>revent 80 cfm</td>\n",
       "      <td>train</td>\n",
       "    </tr>\n",
       "  </tbody>\n",
       "</table>\n",
       "</div>"
      ],
      "text/plain": [
       "                                       product_title  \\\n",
       "0  panasonic fv-20vq3 whisperceiling 190 cfm ceil...   \n",
       "1  homewerks 7141-80 bathroom fan integrated led ...   \n",
       "2  homewerks 7140-80 bathroom fan ceiling mount e...   \n",
       "3  delta electronics rad80l breezradiance 80 cfm ...   \n",
       "4  panasonic fv-08vre2 ventilation fan with reces...   \n",
       "\n",
       "                                 product_description  \\\n",
       "0                                                      \n",
       "1                                                      \n",
       "2                                                      \n",
       "3  this pre-owned or refurbished product has been...   \n",
       "4                                                      \n",
       "\n",
       "                                product_bullet_point  \\\n",
       "0  whisperceiling fans feature a totally enclosed...   \n",
       "1  outstanding performance: this homewerk's bath ...   \n",
       "2  outstanding performance: this homewerk's bath ...   \n",
       "3  quiet operation at 1.5 sones\\nbuilt-in thermos...   \n",
       "4  the design solution for fan/light combinations...   \n",
       "\n",
       "                       product_brand product_color  product_id  \\\n",
       "0                          panasonic         white  B000MOO21W   \n",
       "1                          homewerks        80 cfm  B07X3Y6B1V   \n",
       "2                          homewerks         white  B07WDM7MQQ   \n",
       "3  delta electronics (americas) ltd.         white  B07RH6Z8KW   \n",
       "4                          panasonic         white  B07QJ7WYFQ   \n",
       "\n",
       "            query  split  \n",
       "0   revent 80 cfm  train  \n",
       "1   revent 80 cfm  train  \n",
       "2   revent 80 cfm  train  \n",
       "3   revent 80 cfm  train  \n",
       "4   revent 80 cfm  train  "
      ]
     },
     "execution_count": 16,
     "metadata": {},
     "output_type": "execute_result"
    }
   ],
   "source": [
    "df.head()"
   ]
  },
  {
   "cell_type": "code",
   "execution_count": 17,
   "metadata": {},
   "outputs": [],
   "source": [
    "df.to_csv(\"Data/dataset.csv\")"
   ]
  },
  {
   "cell_type": "markdown",
   "metadata": {},
   "source": [
    "### Steps\n",
    "- loading embedding model (bert)\n",
    "- function to reshape embedding\n",
    "- keep only product cols = ['product_title', 'product_description', 'product_bullet_point','product_brand','product_color','product_id']\n",
    "- drop duplicates on product_id\n",
    "- convert to lower case, count null and replace with ''\n",
    "- create embedding of unique query and product cols"
   ]
  },
  {
   "cell_type": "code",
   "execution_count": 2,
   "metadata": {},
   "outputs": [],
   "source": [
    "df = pd.read_csv(\"Data/dataset.csv\")"
   ]
  },
  {
   "cell_type": "code",
   "execution_count": 4,
   "metadata": {},
   "outputs": [
    {
     "data": {
      "text/html": [
       "<div>\n",
       "<style scoped>\n",
       "    .dataframe tbody tr th:only-of-type {\n",
       "        vertical-align: middle;\n",
       "    }\n",
       "\n",
       "    .dataframe tbody tr th {\n",
       "        vertical-align: top;\n",
       "    }\n",
       "\n",
       "    .dataframe thead th {\n",
       "        text-align: right;\n",
       "    }\n",
       "</style>\n",
       "<table border=\"1\" class=\"dataframe\">\n",
       "  <thead>\n",
       "    <tr style=\"text-align: right;\">\n",
       "      <th></th>\n",
       "      <th>Unnamed: 0</th>\n",
       "      <th>product_title</th>\n",
       "      <th>product_description</th>\n",
       "      <th>product_bullet_point</th>\n",
       "      <th>product_brand</th>\n",
       "      <th>product_color</th>\n",
       "      <th>product_id</th>\n",
       "      <th>query</th>\n",
       "      <th>split</th>\n",
       "    </tr>\n",
       "  </thead>\n",
       "  <tbody>\n",
       "    <tr>\n",
       "      <th>0</th>\n",
       "      <td>0</td>\n",
       "      <td>panasonic fv-20vq3 whisperceiling 190 cfm ceil...</td>\n",
       "      <td>NaN</td>\n",
       "      <td>whisperceiling fans feature a totally enclosed...</td>\n",
       "      <td>panasonic</td>\n",
       "      <td>white</td>\n",
       "      <td>B000MOO21W</td>\n",
       "      <td>revent 80 cfm</td>\n",
       "      <td>train</td>\n",
       "    </tr>\n",
       "    <tr>\n",
       "      <th>1</th>\n",
       "      <td>1</td>\n",
       "      <td>homewerks 7141-80 bathroom fan integrated led ...</td>\n",
       "      <td>NaN</td>\n",
       "      <td>outstanding performance: this homewerk's bath ...</td>\n",
       "      <td>homewerks</td>\n",
       "      <td>80 cfm</td>\n",
       "      <td>B07X3Y6B1V</td>\n",
       "      <td>revent 80 cfm</td>\n",
       "      <td>train</td>\n",
       "    </tr>\n",
       "    <tr>\n",
       "      <th>2</th>\n",
       "      <td>2</td>\n",
       "      <td>homewerks 7140-80 bathroom fan ceiling mount e...</td>\n",
       "      <td>NaN</td>\n",
       "      <td>outstanding performance: this homewerk's bath ...</td>\n",
       "      <td>homewerks</td>\n",
       "      <td>white</td>\n",
       "      <td>B07WDM7MQQ</td>\n",
       "      <td>revent 80 cfm</td>\n",
       "      <td>train</td>\n",
       "    </tr>\n",
       "    <tr>\n",
       "      <th>3</th>\n",
       "      <td>3</td>\n",
       "      <td>delta electronics rad80l breezradiance 80 cfm ...</td>\n",
       "      <td>this pre-owned or refurbished product has been...</td>\n",
       "      <td>quiet operation at 1.5 sones\\nbuilt-in thermos...</td>\n",
       "      <td>delta electronics (americas) ltd.</td>\n",
       "      <td>white</td>\n",
       "      <td>B07RH6Z8KW</td>\n",
       "      <td>revent 80 cfm</td>\n",
       "      <td>train</td>\n",
       "    </tr>\n",
       "    <tr>\n",
       "      <th>4</th>\n",
       "      <td>4</td>\n",
       "      <td>panasonic fv-08vre2 ventilation fan with reces...</td>\n",
       "      <td>NaN</td>\n",
       "      <td>the design solution for fan/light combinations...</td>\n",
       "      <td>panasonic</td>\n",
       "      <td>white</td>\n",
       "      <td>B07QJ7WYFQ</td>\n",
       "      <td>revent 80 cfm</td>\n",
       "      <td>train</td>\n",
       "    </tr>\n",
       "  </tbody>\n",
       "</table>\n",
       "</div>"
      ],
      "text/plain": [
       "   Unnamed: 0                                      product_title  \\\n",
       "0           0  panasonic fv-20vq3 whisperceiling 190 cfm ceil...   \n",
       "1           1  homewerks 7141-80 bathroom fan integrated led ...   \n",
       "2           2  homewerks 7140-80 bathroom fan ceiling mount e...   \n",
       "3           3  delta electronics rad80l breezradiance 80 cfm ...   \n",
       "4           4  panasonic fv-08vre2 ventilation fan with reces...   \n",
       "\n",
       "                                 product_description  \\\n",
       "0                                                NaN   \n",
       "1                                                NaN   \n",
       "2                                                NaN   \n",
       "3  this pre-owned or refurbished product has been...   \n",
       "4                                                NaN   \n",
       "\n",
       "                                product_bullet_point  \\\n",
       "0  whisperceiling fans feature a totally enclosed...   \n",
       "1  outstanding performance: this homewerk's bath ...   \n",
       "2  outstanding performance: this homewerk's bath ...   \n",
       "3  quiet operation at 1.5 sones\\nbuilt-in thermos...   \n",
       "4  the design solution for fan/light combinations...   \n",
       "\n",
       "                       product_brand product_color  product_id  \\\n",
       "0                          panasonic         white  B000MOO21W   \n",
       "1                          homewerks        80 cfm  B07X3Y6B1V   \n",
       "2                          homewerks         white  B07WDM7MQQ   \n",
       "3  delta electronics (americas) ltd.         white  B07RH6Z8KW   \n",
       "4                          panasonic         white  B07QJ7WYFQ   \n",
       "\n",
       "            query  split  \n",
       "0   revent 80 cfm  train  \n",
       "1   revent 80 cfm  train  \n",
       "2   revent 80 cfm  train  \n",
       "3   revent 80 cfm  train  \n",
       "4   revent 80 cfm  train  "
      ]
     },
     "execution_count": 4,
     "metadata": {},
     "output_type": "execute_result"
    }
   ],
   "source": [
    "df.head()"
   ]
  },
  {
   "cell_type": "code",
   "execution_count": 3,
   "metadata": {},
   "outputs": [
    {
     "data": {
      "text/plain": [
       "Unnamed: 0                    0\n",
       "product_title                 0\n",
       "product_description     1348675\n",
       "product_bullet_point     364762\n",
       "product_brand            166893\n",
       "product_color            911029\n",
       "product_id                    0\n",
       "query                         0\n",
       "split                         0\n",
       "dtype: int64"
      ]
     },
     "execution_count": 3,
     "metadata": {},
     "output_type": "execute_result"
    }
   ],
   "source": [
    "df.isnull().sum()"
   ]
  },
  {
   "cell_type": "code",
   "execution_count": 26,
   "metadata": {},
   "outputs": [
    {
     "name": "stderr",
     "output_type": "stream",
     "text": [
      "d:\\Learning\\Two-Tower-Recommendation\\.venv\\lib\\site-packages\\huggingface_hub\\file_download.py:159: UserWarning: `huggingface_hub` cache-system uses symlinks by default to efficiently store duplicated files but your machine does not support them in C:\\Users\\sachi\\.cache\\huggingface\\hub\\models--sentence-transformers--paraphrase-MiniLM-L6-v2. Caching files will still work but in a degraded version that might require more space on your disk. This warning can be disabled by setting the `HF_HUB_DISABLE_SYMLINKS_WARNING` environment variable. For more details, see https://huggingface.co/docs/huggingface_hub/how-to-cache#limitations.\n",
      "To support symlinks on Windows, you either need to activate Developer Mode or to run Python as an administrator. In order to see activate developer mode, see this article: https://docs.microsoft.com/en-us/windows/apps/get-started/enable-your-device-for-development\n",
      "  warnings.warn(message)\n"
     ]
    }
   ],
   "source": [
    "from sentence_transformers import SentenceTransformer\n",
    "\n",
    "model = SentenceTransformer('paraphrase-MiniLM-L6-v2')"
   ]
  },
  {
   "cell_type": "code",
   "execution_count": 29,
   "metadata": {},
   "outputs": [
    {
     "name": "stdout",
     "output_type": "stream",
     "text": [
      "torch.Size([1, 384])\n"
     ]
    }
   ],
   "source": [
    "sentences = [\"This is an example sentence.\"]\n",
    "embeddings = model.encode(sentences, convert_to_tensor=True)\n",
    "\n",
    "# The 'embeddings' variable now contains the sentence embeddings as PyTorch tensors\n",
    "print(embeddings.shape)"
   ]
  },
  {
   "cell_type": "code",
   "execution_count": null,
   "metadata": {},
   "outputs": [],
   "source": []
  }
 ],
 "metadata": {
  "kernelspec": {
   "display_name": ".venv",
   "language": "python",
   "name": "python3"
  },
  "language_info": {
   "codemirror_mode": {
    "name": "ipython",
    "version": 3
   },
   "file_extension": ".py",
   "mimetype": "text/x-python",
   "name": "python",
   "nbconvert_exporter": "python",
   "pygments_lexer": "ipython3",
   "version": "3.8.0"
  }
 },
 "nbformat": 4,
 "nbformat_minor": 2
}
